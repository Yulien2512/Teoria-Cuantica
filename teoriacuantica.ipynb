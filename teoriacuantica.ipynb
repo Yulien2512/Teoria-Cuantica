{
 "cells": [
  {
   "cell_type": "markdown",
   "id": "cb7f8e05-2599-4154-bb58-30aabbcf5a94",
   "metadata": {},
   "source": [
    "# TEORÍA CUÁNTICA BÁSICA, OBSERVABLES Y MEDIDAS"
   ]
  },
  {
   "cell_type": "markdown",
   "id": "1108587e-654a-4e0f-bf22-893dd6818689",
   "metadata": {},
   "source": [
    "## SIMULE EL PRIMER SISTEMA CUÁNTICO DESCRITO EN LA SECCIÓN 4.1.\n",
    "### 1. El sistema debe calcular la probabilidad de encontrarlo en una posición en particular.\n",
    "## Solucion:\n"
   ]
  },
  {
   "cell_type": "code",
   "execution_count": 3,
   "id": "db2bafa8-a934-4de7-a7be-72392b79331d",
   "metadata": {},
   "outputs": [
    {
     "name": "stdout",
     "output_type": "stream",
     "text": [
      "[0.05263158]\n"
     ]
    }
   ],
   "source": [
    "import numpy as np\n",
    "import math\n",
    "\n",
    "\n",
    "v = np.array([[-3-1j],[-2],[1j],[2]])\n",
    "pos = 2\n",
    "\n",
    "norms = 0\n",
    "for i in range(len(v)):\n",
    "    n = abs(v[i])**2\n",
    "    norms += n\n",
    "c = abs(v[pos])**2\n",
    "print(abs(c/norms))"
   ]
  },
  {
   "cell_type": "markdown",
   "id": "88057069-ab85-4ed9-aa4e-3509291f8c57",
   "metadata": {},
   "source": [
    "### 2. El sistema si se le da otro vector Ket debe buscar la probabilidad de transitar del primer vector al segundo.\n",
    "## Solucion:"
   ]
  },
  {
   "cell_type": "code",
   "execution_count": null,
   "id": "63105800-f57f-47a2-82d9-1ffa88540d48",
   "metadata": {},
   "outputs": [],
   "source": []
  }
 ],
 "metadata": {
  "kernelspec": {
   "display_name": "Python 3 (ipykernel)",
   "language": "python",
   "name": "python3"
  },
  "language_info": {
   "codemirror_mode": {
    "name": "ipython",
    "version": 3
   },
   "file_extension": ".py",
   "mimetype": "text/x-python",
   "name": "python",
   "nbconvert_exporter": "python",
   "pygments_lexer": "ipython3",
   "version": "3.12.0"
  }
 },
 "nbformat": 4,
 "nbformat_minor": 5
}
