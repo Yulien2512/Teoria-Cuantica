{
 "cells": [
  {
   "cell_type": "markdown",
   "id": "cb7f8e05-2599-4154-bb58-30aabbcf5a94",
   "metadata": {},
   "source": [
    "# TEORÍA CUÁNTICA BÁSICA, OBSERVABLES Y MEDIDAS"
   ]
  },
  {
   "cell_type": "markdown",
   "id": "1108587e-654a-4e0f-bf22-893dd6818689",
   "metadata": {},
   "source": [
    "## SIMULE EL PRIMER SISTEMA CUÁNTICO DESCRITO EN LA SECCIÓN 4.1.\n",
    "### 1. El sistema debe calcular la probabilidad de encontrarlo en una posición en particular.\n",
    "## Solucion:\n"
   ]
  },
  {
   "cell_type": "code",
   "execution_count": 12,
   "id": "ddd8a897-02e3-47b3-8803-a3e670f3ce1b",
   "metadata": {},
   "outputs": [
    {
     "name": "stdout",
     "output_type": "stream",
     "text": [
      "Note: you may need to restart the kernel to use updated packages.\n"
     ]
    },
    {
     "name": "stderr",
     "output_type": "stream",
     "text": [
      "\n",
      "[notice] A new release of pip is available: 23.2.1 -> 24.0\n",
      "[notice] To update, run: python.exe -m pip install --upgrade pip\n"
     ]
    },
    {
     "name": "stdout",
     "output_type": "stream",
     "text": [
      "Requirement already satisfied: numpy in c:\\users\\julian.cardenas-c\\pycharmprojects\\pythonproject1\\venv\\lib\\site-packages (1.26.4)\n"
     ]
    }
   ],
   "source": [
    "pip install numpy"
   ]
  },
  {
   "cell_type": "code",
   "execution_count": 61,
   "id": "a780e7c7-4298-436d-a009-fea9ef08f894",
   "metadata": {},
   "outputs": [],
   "source": [
    "def conj_matriz(m1):\n",
    "    m = [[(0,0) for i in range(len(m1))] for j in range(len(m1[0]))]\n",
    "    for i in range(len(m1)):\n",
    "        for j in range(len(m1[0])):\n",
    "            m[j][i] = m1[i][j]\n",
    "    return m\n",
    "\n",
    "def vectornormal(vec1):\n",
    "    norma = 0\n",
    "    for i in range(len(vec1)):\n",
    "        n = abs(vec1[i])**2\n",
    "        norma += n\n",
    "    return norma\n",
    "\n",
    "def hermitiana(m):\n",
    "    m1 = conj_matriz(m)\n",
    "    return np.array_equal(m, np.transpose(m1))\n",
    "\n",
    "def norm(vec):\n",
    "    for i in range(len(vec)):\n",
    "        vec[i] = vec[i] / vectornormal(vec)\n",
    "    return vec\n",
    "\n",
    "def matriz (m, vec):\n",
    "    m = np.array(m)\n",
    "    vec = np.array(vec)\n",
    "    m_v = m.dot(vec)\n",
    "    return m_v\n",
    "\n",
    "def inter(vec1, vec2):\n",
    "    res = 0\n",
    "    for i in range(len(vec1)):\n",
    "        res += vec2[i] * vec1[i].conjugate()\n",
    "    return res"
   ]
  },
  {
   "cell_type": "code",
   "execution_count": 41,
   "id": "db2bafa8-a934-4de7-a7be-72392b79331d",
   "metadata": {},
   "outputs": [
    {
     "name": "stdout",
     "output_type": "stream",
     "text": [
      "[0.05263158]\n"
     ]
    }
   ],
   "source": [
    "import numpy as np\n",
    "import math\n",
    "\n",
    "\n",
    "v = np.array([[-3-1j],[-2],[1j],[2]])\n",
    "pos = 2\n",
    "\n",
    "norms = vectornormal(v)\n",
    "c = abs(v[pos])**2\n",
    "print(abs(c/norms))"
   ]
  },
  {
   "cell_type": "markdown",
   "id": "8551ed64-7d9b-44c4-906c-3229a483b080",
   "metadata": {},
   "source": [
    "### 2. El sistema si se le da otro vector Ket debe buscar la probabilidad de transitar del primer vector al segundo.\n",
    "## Solucion:"
   ]
  },
  {
   "cell_type": "code",
   "execution_count": 26,
   "id": "a3b68666-a34f-4241-b4b8-829f9a1a8482",
   "metadata": {},
   "outputs": [
    {
     "name": "stdout",
     "output_type": "stream",
     "text": [
      "[[ 0.36833118+0.3507916j   0.12277706-0.05261874j]\n",
      " [ 0.10523748-0.2630937j  -0.05261874-0.05261874j]]\n"
     ]
    }
   ],
   "source": [
    "\n",
    "def probabilidad_transicion(vec1, vec2):\n",
    "\n",
    "    inter = np.inner(vec1, vec2)\n",
    "    norma1 = 0\n",
    "    norma2 = 0\n",
    "    for i in range(len(vec1)):\n",
    "        n = abs(vec1[i])\n",
    "        norma1 += n\n",
    "    for i in range(len(vec2)):\n",
    "        n = abs(vec2[i])\n",
    "        norma2 += n\n",
    "    norma3 = norma1 * norma2\n",
    "    print(inter/norma3)\n",
    "\n",
    "vec1 = np.array([[5 + 2j],[-3j]])\n",
    "vec2 = np.array([[5 + 2j], [1 - 1j]])\n",
    "probabilidad_transicion(vec1, vec2)"
   ]
  },
  {
   "cell_type": "markdown",
   "id": "9e59c0a9-d338-43fc-aea2-5c5822f17070",
   "metadata": {},
   "source": [
    "# COMPLETE LOS RETOS DE PROGRAMACIÓN DEL CAPÍTULO 4.\n",
    "### 1. Amplitud de transición. El sistema puede recibir dos vectores y calcular la probabilidad de transitar de el uno al otro después de hacer la observación"
   ]
  },
  {
   "cell_type": "code",
   "execution_count": 66,
   "id": "53dc8c1d-910b-42c7-887d-90053ab7f73e",
   "metadata": {},
   "outputs": [],
   "source": [
    "def amplitud(vec1, vec2):\n",
    "    norma1 = vectornormal(vec1)\n",
    "    vec2 = conj_matriz(vec2)\n",
    "    norma2 = vectornormal(vec2)\n",
    "    \n",
    "    norma = norma1 * norma2\n",
    "    inter = np.inner(vec1, vec2)\n",
    "    return inter/norma"
   ]
  },
  {
   "cell_type": "markdown",
   "id": "9fe1807c-b639-4c57-b31a-81aad8dc0d45",
   "metadata": {},
   "source": [
    "### 2. Ahora con una matriz que describa un observable y un vector ket, el sistema revisa que la matriz sea hermitiana, y si lo es, calcula la media y la varianza del observable en el estado dado."
   ]
  },
  {
   "cell_type": "code",
   "execution_count": 71,
   "id": "12cf56c0-2b61-4db3-8493-17c373db062d",
   "metadata": {},
   "outputs": [],
   "source": [
    "def media(obs, k):\n",
    "    vp_norm = np.linalg.norm(k)\n",
    "    if hermitiana(obs) == True:\n",
    "        if vp_norm != 1:\n",
    "            k = norm(k)\n",
    "        media = inter((matriz(obs, k), k)\n",
    "                      \n",
    "    return media\n"
   ]
  },
  {
   "cell_type": "code",
   "execution_count": 73,
   "id": "4fe9fb06-196f-4269-b6d8-0333d6932df8",
   "metadata": {},
   "outputs": [],
   "source": [
    "def varianza(obs, k):\n",
    "    imedia = (media(obs, est)) * (np.identify(len(v)))\n",
    "    rest = np.array(obs) - np.array(imedia)\n",
    "    resp = media((np.array(rest).dot(np.array(rest))), k)\n",
    "    return resp\n",
    "                                "
   ]
  },
  {
   "cell_type": "code",
   "execution_count": null,
   "id": "1ab6620e-c074-41f3-aadd-ac7fa9e0da6a",
   "metadata": {},
   "outputs": [],
   "source": []
  },
  {
   "cell_type": "code",
   "execution_count": null,
   "id": "352dcb3d-831d-417f-80c2-4a2eb2d15ff6",
   "metadata": {},
   "outputs": [],
   "source": []
  }
 ],
 "metadata": {
  "kernelspec": {
   "display_name": "Python 3 (ipykernel)",
   "language": "python",
   "name": "python3"
  },
  "language_info": {
   "codemirror_mode": {
    "name": "ipython",
    "version": 3
   },
   "file_extension": ".py",
   "mimetype": "text/x-python",
   "name": "python",
   "nbconvert_exporter": "python",
   "pygments_lexer": "ipython3",
   "version": "3.11.5"
  }
 },
 "nbformat": 4,
 "nbformat_minor": 5
}
