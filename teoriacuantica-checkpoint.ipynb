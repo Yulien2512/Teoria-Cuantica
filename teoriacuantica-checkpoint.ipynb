{
 "cells": [
  {
   "cell_type": "markdown",
   "id": "cb7f8e05-2599-4154-bb58-30aabbcf5a94",
   "metadata": {},
   "source": [
    "# TEORÍA CUÁNTICA BÁSICA, OBSERVABLES Y MEDIDAS"
   ]
  },
  {
   "cell_type": "markdown",
   "id": "1108587e-654a-4e0f-bf22-893dd6818689",
   "metadata": {},
   "source": [
    "## SIMULE EL PRIMER SISTEMA CUÁNTICO DESCRITO EN LA SECCIÓN 4.1.\n",
    "### 1. El sistema debe calcular la probabilidad de encontrarlo en una posición en particular.\n"
   ]
  },
  {
   "cell_type": "code",
   "execution_count": 7,
   "id": "db2bafa8-a934-4de7-a7be-72392b79331d",
   "metadata": {},
   "outputs": [
    {
     "name": "stdout",
     "output_type": "stream",
     "text": [
      "La probabiliodad de encontrarlo en una posicion es: [0.05263158]\n"
     ]
    }
   ],
   "source": [
    "import numpy as np\n",
    "def norma(vec):\n",
    "    norma = 0\n",
    "    for i in range(len(vec)):\n",
    "        n = abs(vec[i])**2\n",
    "        norma += n\n",
    "    return norma\n",
    "\n",
    "def probabilidad_pos(vec, pos):\n",
    "    norms = norma(v)\n",
    "    c = abs(v[pos])**2\n",
    "    return abs(c/norms)\n",
    "\n",
    "pos = 2\n",
    "v = np.array([[-3-1j],[-2],[1j],[2]])\n",
    "print(f\"La probabiliodad de encontrarlo en una posicion es: {probabilidad_pos(v , pos)}\") "
   ]
  },
  {
   "cell_type": "markdown",
   "id": "8551ed64-7d9b-44c4-906c-3229a483b080",
   "metadata": {},
   "source": [
    "### 2. El sistema si se le da otro vector Ket debe buscar la probabilidad de transitar del primer vector al segundo.\n"
   ]
  },
  {
   "cell_type": "code",
   "execution_count": 28,
   "id": "a3b68666-a34f-4241-b4b8-829f9a1a8482",
   "metadata": {},
   "outputs": [
    {
     "name": "stdout",
     "output_type": "stream",
     "text": [
      "la probabilidad de transitcion es: 0.9999999999999998j\n"
     ]
    }
   ],
   "source": [
    "def normalized(vec):\n",
    "    norma = np.linalg.norm(vec)\n",
    "    normalizado = vec / norma\n",
    "    return normalizado\n",
    "    \n",
    "def probabilidad_transicion(vec1, vec2):\n",
    "    nvec1 = normalized(vec1)\n",
    "    nvec2 = normalized(vec2) \n",
    "    \n",
    "    inner = np.dot(nvec1, nvec2)\n",
    "    probabilidad = np.abs(inner) ** 2\n",
    "    return probabilidad\n",
    "\n",
    "ket1 = np.array([1, 1j])\n",
    "ket2 = np.array([1j, 1])\n",
    "print(f\"la probabilidad de transitcion es: {probabilidad_transicion(ket1, ket2)}\")  "
   ]
  },
  {
   "cell_type": "markdown",
   "id": "9e59c0a9-d338-43fc-aea2-5c5822f17070",
   "metadata": {},
   "source": [
    "# COMPLETE LOS RETOS DE PROGRAMACIÓN DEL CAPÍTULO 4.\n",
    "### 1. Amplitud de transición. El sistema puede recibir dos vectores y calcular la probabilidad de transitar de el uno al otro después de hacer la observación"
   ]
  },
  {
   "cell_type": "code",
   "execution_count": 32,
   "id": "53dc8c1d-910b-42c7-887d-90053ab7f73e",
   "metadata": {},
   "outputs": [
    {
     "name": "stdout",
     "output_type": "stream",
     "text": [
      "la probabilidad de transitar de el uno al otro es: 0.9615384615384612\n"
     ]
    }
   ],
   "source": [
    "def amplitud(vec1, vec2):\n",
    "    nvec1 = normalized(vec1)\n",
    "    nvec2 = normalized(vec2) \n",
    "    \n",
    "    inner = np.dot(nvec1, nvec2)\n",
    "    probabilidad = np.abs(inner) ** 2\n",
    "    return probabilidad\n",
    "\n",
    "vec1 = np.array([1/2, 1/3])\n",
    "vec2 = np.array([1, 1])\n",
    "print(f\"la probabilidad de transitar de el uno al otro es: {amplitud(vec1, vec2)}\")"
   ]
  },
  {
   "cell_type": "markdown",
   "id": "9fe1807c-b639-4c57-b31a-81aad8dc0d45",
   "metadata": {},
   "source": [
    "### 2. Ahora con una matriz que describa un observable y un vector ket, el sistema revisa que la matriz sea hermitiana, y si lo es, calcula la media y la varianza del observable en el estado dado."
   ]
  },
  {
   "cell_type": "code",
   "execution_count": 45,
   "id": "12cf56c0-2b61-4db3-8493-17c373db062d",
   "metadata": {},
   "outputs": [
    {
     "name": "stdout",
     "output_type": "stream",
     "text": [
      "La media del observable es: 2.5000000000000004\n",
      "La varianza del observable es: [1.80555556 1.80555556]\n"
     ]
    }
   ],
   "source": [
    "def hermitiana(matriz):\n",
    "    return np.allclose(matriz, matriz.conj().T)\n",
    "\n",
    "def media(obs, ket):\n",
    "\n",
    "    v1 = ket.conj().T\n",
    "    v2 = np.dot(obs, ket)\n",
    "    media = np.dot(v1, v2).real\n",
    "    return media\n",
    "\n",
    "def variance(obs, ket):\n",
    "     v1 = ket.conj().T\n",
    "     v2 = np.dot(obs, ket)\n",
    "     variance = np.dot(v1, v2).real\n",
    "     return variance - media(vec1, vec2) ** 2\n",
    "   \n",
    "obs = np.array([[1, -1j],[1j, 2]])\n",
    "ket = np.array([np.sqrt(2)/2, np.sqrt(2)/2j])\n",
    "\n",
    "\n",
    "if hermitiana(obs):\n",
    "    print(f\"La media del observable es: {media(obs, ket)}\")\n",
    "    print(f\"La varianza del observable es: {variance(obs, ket)}\")\n",
    "else:\n",
    "    print(\"No es hermitiana\")\n",
    "    \n",
    "\n"
   ]
  },
  {
   "cell_type": "markdown",
   "id": "eb3f158a-c2b2-4e98-b5f3-9fad697dce86",
   "metadata": {},
   "source": [
    "### 3. El sistema calcula los valores propios del observable y la probabilidad de que el sistema transite a alguno de los vectores propios después de la observación."
   ]
  },
  {
   "cell_type": "code",
   "execution_count": 52,
   "id": "1ab6620e-c074-41f3-aadd-ac7fa9e0da6a",
   "metadata": {},
   "outputs": [
    {
     "name": "stdout",
     "output_type": "stream",
     "text": [
      "Eigenvalues: [-1.41421356+0.j  1.41421356+0.j]\n",
      "Eigenvectors:\n",
      " [[ 0.92387953+0.j         -0.        -0.38268343j]\n",
      " [-0.        -0.38268343j  0.92387953+0.j        ]]\n",
      "la probabilidad es [[0.5]\n",
      " [0.5]]\n"
     ]
    }
   ],
   "source": [
    "def eigenvalues(obs):\n",
    "    eigenvalues, eigenvectors = np.linalg.eig(obs)\n",
    "    \n",
    "    print(\"Eigenvalues:\", eigenvalues)\n",
    "    print(\"Eigenvectors:\\n\", eigenvectors)\n",
    "\n",
    "    return eigenvectors\n",
    "\n",
    "def probabilidad_obs(eigenvectors, ket):\n",
    "    nket = normalized(ket)\n",
    "    probabilidad = abs(np.dot(eigenvectors.conj(), nket)) ** 2\n",
    "    return probabilidad\n",
    "    \n",
    "obs = np.array([[-1, -1j], [1j, 1]])\n",
    "ket = np.array([[1/2, 1/2]]).T\n",
    "eigenvectors = eigenvalues(obs)\n",
    "print(\"la probabilidad es\" , probabilidad_obs(eigenvectors, ket))"
   ]
  },
  {
   "cell_type": "markdown",
   "id": "d977b903-62f3-411c-a61c-c01559c2cb4e",
   "metadata": {},
   "source": [
    "### 4. Se considera la dinámica del sistema. Ahora con una serie de matrices Un el sistema calcula el estado final a partir de un estado inicial."
   ]
  },
  {
   "cell_type": "code",
   "execution_count": 60,
   "id": "aa413dae-6721-41d5-b40e-aefaaedb947c",
   "metadata": {},
   "outputs": [
    {
     "name": "stdout",
     "output_type": "stream",
     "text": [
      "Estado final = [0 1]\n"
     ]
    }
   ],
   "source": [
    "def estado_final(kinicial, matriz):\n",
    "    kfinal = kinicial\n",
    "    for m in matriz:\n",
    "        kfinal = np.dot(m, kfinal)\n",
    "    return kfinal\n",
    "\n",
    "kinicial = np.array([1,0])\n",
    "matrices = np.array([[1, 0], [0, 1]]), np.array([[0, 1], [1, 0]])\n",
    "\n",
    "\n",
    "print(f\"Estado final = {estado_final(kinicial, matrices)}\")"
   ]
  }
 ],
 "metadata": {
  "kernelspec": {
   "display_name": "Python 3 (ipykernel)",
   "language": "python",
   "name": "python3"
  },
  "language_info": {
   "codemirror_mode": {
    "name": "ipython",
    "version": 3
   },
   "file_extension": ".py",
   "mimetype": "text/x-python",
   "name": "python",
   "nbconvert_exporter": "python",
   "pygments_lexer": "ipython3",
   "version": "3.12.0"
  }
 },
 "nbformat": 4,
 "nbformat_minor": 5
}
